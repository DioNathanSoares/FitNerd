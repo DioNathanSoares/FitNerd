{
  "nbformat": 4,
  "nbformat_minor": 0,
  "metadata": {
    "colab": {
      "provenance": []
    },
    "kernelspec": {
      "name": "python3",
      "display_name": "Python 3"
    },
    "language_info": {
      "name": "python"
    }
  },
  "cells": [
    {
      "cell_type": "code",
      "source": [
        "#Iniciando com a instalação da ADK\n",
        "%pip -q install google-adk"
      ],
      "metadata": {
        "colab": {
          "base_uri": "https://localhost:8080/"
        },
        "id": "VRxieRfI3_hd",
        "outputId": "66448e58-7a9a-46bd-c1a0-b90aedc5ee00"
      },
      "execution_count": null,
      "outputs": [
        {
          "output_type": "stream",
          "name": "stdout",
          "text": [
            "\u001b[2K   \u001b[90m━━━━━━━━━━━━━━━━━━━━━━━━━━━━━━━━━━━━━━━━\u001b[0m \u001b[32m1.2/1.2 MB\u001b[0m \u001b[31m7.1 MB/s\u001b[0m eta \u001b[36m0:00:00\u001b[0m\n",
            "\u001b[2K   \u001b[90m━━━━━━━━━━━━━━━━━━━━━━━━━━━━━━━━━━━━━━━━\u001b[0m \u001b[32m232.1/232.1 kB\u001b[0m \u001b[31m8.6 MB/s\u001b[0m eta \u001b[36m0:00:00\u001b[0m\n",
            "\u001b[2K   \u001b[90m━━━━━━━━━━━━━━━━━━━━━━━━━━━━━━━━━━━━━━━━\u001b[0m \u001b[32m95.2/95.2 kB\u001b[0m \u001b[31m3.0 MB/s\u001b[0m eta \u001b[36m0:00:00\u001b[0m\n",
            "\u001b[2K   \u001b[90m━━━━━━━━━━━━━━━━━━━━━━━━━━━━━━━━━━━━━━━━\u001b[0m \u001b[32m217.1/217.1 kB\u001b[0m \u001b[31m8.1 MB/s\u001b[0m eta \u001b[36m0:00:00\u001b[0m\n",
            "\u001b[2K   \u001b[90m━━━━━━━━━━━━━━━━━━━━━━━━━━━━━━━━━━━━━━━━\u001b[0m \u001b[32m334.1/334.1 kB\u001b[0m \u001b[31m12.5 MB/s\u001b[0m eta \u001b[36m0:00:00\u001b[0m\n",
            "\u001b[2K   \u001b[90m━━━━━━━━━━━━━━━━━━━━━━━━━━━━━━━━━━━━━━━━\u001b[0m \u001b[32m125.1/125.1 kB\u001b[0m \u001b[31m6.2 MB/s\u001b[0m eta \u001b[36m0:00:00\u001b[0m\n",
            "\u001b[2K   \u001b[90m━━━━━━━━━━━━━━━━━━━━━━━━━━━━━━━━━━━━━━━━\u001b[0m \u001b[32m65.8/65.8 kB\u001b[0m \u001b[31m1.7 MB/s\u001b[0m eta \u001b[36m0:00:00\u001b[0m\n",
            "\u001b[2K   \u001b[90m━━━━━━━━━━━━━━━━━━━━━━━━━━━━━━━━━━━━━━━━\u001b[0m \u001b[32m119.0/119.0 kB\u001b[0m \u001b[31m2.6 MB/s\u001b[0m eta \u001b[36m0:00:00\u001b[0m\n",
            "\u001b[2K   \u001b[90m━━━━━━━━━━━━━━━━━━━━━━━━━━━━━━━━━━━━━━━━\u001b[0m \u001b[32m194.9/194.9 kB\u001b[0m \u001b[31m5.9 MB/s\u001b[0m eta \u001b[36m0:00:00\u001b[0m\n",
            "\u001b[2K   \u001b[90m━━━━━━━━━━━━━━━━━━━━━━━━━━━━━━━━━━━━━━━━\u001b[0m \u001b[32m62.5/62.5 kB\u001b[0m \u001b[31m1.8 MB/s\u001b[0m eta \u001b[36m0:00:00\u001b[0m\n",
            "\u001b[2K   \u001b[90m━━━━━━━━━━━━━━━━━━━━━━━━━━━━━━━━━━━━━━━━\u001b[0m \u001b[32m103.3/103.3 kB\u001b[0m \u001b[31m4.9 MB/s\u001b[0m eta \u001b[36m0:00:00\u001b[0m\n",
            "\u001b[2K   \u001b[90m━━━━━━━━━━━━━━━━━━━━━━━━━━━━━━━━━━━━━━━━\u001b[0m \u001b[32m44.4/44.4 kB\u001b[0m \u001b[31m2.2 MB/s\u001b[0m eta \u001b[36m0:00:00\u001b[0m\n",
            "\u001b[2K   \u001b[90m━━━━━━━━━━━━━━━━━━━━━━━━━━━━━━━━━━━━━━━━\u001b[0m \u001b[32m72.0/72.0 kB\u001b[0m \u001b[31m3.6 MB/s\u001b[0m eta \u001b[36m0:00:00\u001b[0m\n",
            "\u001b[?25h"
          ]
        }
      ]
    },
    {
      "cell_type": "code",
      "source": [
        "#Importação dos módulos genai e types\n",
        "from google import genai\n",
        "from google.genai import types\n",
        "\n",
        "#Importação das classes Agent, Runner, InMemorySessionService e google_search\n",
        "from google.adk.agents import Agent\n",
        "from google.adk.runners import Runner\n",
        "from google.adk.sessions import InMemorySessionService\n",
        "from google.adk.tools import google_search\n",
        "\n",
        "#Importação do módulo de datas, para trabalhar com datas\n",
        "from datetime import date\n",
        "\n",
        "#Importação do textwrap, para manipular quebra de linhas e formatar textos\n",
        "import textwrap\n",
        "\n",
        "#Importação das funções display e Markdown, para estilizações\n",
        "from IPython.display import display, Markdown\n",
        "\n",
        "#Importação da biblioteca request, para interação HTTP\n",
        "import requests\n",
        "\n",
        "#Importação do módulo warning, para controle de avisos e função pra ignorar avisos.\n",
        "import warnings\n",
        "warnings.filterwarnings(\"ignore\")"
      ],
      "metadata": {
        "id": "TlJ1oDoZr-BE"
      },
      "execution_count": null,
      "outputs": []
    },
    {
      "cell_type": "code",
      "source": [
        "# Configura a API Key do Google Gemini\n",
        "\n",
        "import os\n",
        "\n",
        "from google.colab import userdata\n",
        "\n",
        "os.environ[\"GOOGLE_API_KEY\"] = userdata.get('GOOGLE_API_KEY')"
      ],
      "metadata": {
        "id": "CY28q9LuA2e4"
      },
      "execution_count": null,
      "outputs": []
    },
    {
      "cell_type": "code",
      "source": [
        "# Função auxiliar que envia uma mensagem para um agente via Runner e retorna a resposta final\n",
        "def call_agent(agent: Agent, message_text: str) -> str:\n",
        "    # Cria um serviço de sessão em memória\n",
        "    session_service = InMemorySessionService()\n",
        "    # Cria uma nova sessão (você pode personalizar os IDs conforme necessário)\n",
        "    session = session_service.create_session(app_name=agent.name, user_id=\"user1\", session_id=\"session1\")\n",
        "    # Cria um Runner para o agente\n",
        "    runner = Runner(agent=agent, app_name=agent.name, session_service=session_service)\n",
        "    # Cria o conteúdo da mensagem de entrada\n",
        "    content = types.Content(role=\"user\", parts=[types.Part(text=message_text)])\n",
        "\n",
        "    final_response = \"\"\n",
        "    # Itera assincronamente pelos eventos retornados durante a execução do agente\n",
        "    for event in runner.run(user_id=\"user1\", session_id=\"session1\", new_message=content):\n",
        "        if event.is_final_response():\n",
        "          for part in event.content.parts:\n",
        "            if part.text is not None:\n",
        "              final_response += part.text\n",
        "              final_response += \"\\n\"\n",
        "    return final_response"
      ],
      "metadata": {
        "id": "LfoovUVmtc9W"
      },
      "execution_count": null,
      "outputs": []
    },
    {
      "cell_type": "code",
      "source": [
        "# Função auxiliar para exibir texto formatado em Markdown no Colab\n",
        "def to_markdown(text):\n",
        "  text = text.replace('•', '  *')\n",
        "  return Markdown(textwrap.indent(text, '> ', predicate=lambda _: True))"
      ],
      "metadata": {
        "id": "M-TV3KuEthm3"
      },
      "execution_count": null,
      "outputs": []
    },
    {
      "cell_type": "code",
      "source": [
        "##########################################\n",
        "# --- Agente 1: Buscador de Dicas --- #\n",
        "##########################################\n",
        "\n",
        "def agente_buscador(topico, data_de_hoje):\n",
        "    buscador = Agent(\n",
        "        name=\"agente_buscador\",\n",
        "        model=\"gemini-2.0-flash\",\n",
        "        description=\"Agente que busca informações sobre treino para alunos de nível intermediário.\",\n",
        "        tools=[google_search],\n",
        "        instruction=\"\"\"\n",
        "        Você é um assistente de pesquisas, que está auxiliando um aluno que possuem um pouco mais de experiência com exercícios físicos e prática de atividade física. Sua tarefa é usar a ferramenta de busca do google (google_search)para pesquisar por informações sobre treinos, atividades físicas, benefícios para a saúde através da atividade física e assuntos correlacionados ao mundo fitness, inclusive, dicas para o dia a dia saudável. Não seja prolixo, traga informações relevantes, de fácil compreensão e sempre traga informações com embassamento científico (não complique a cabeça do nosso aluno, embora de nível intermediário, ele é super prático no seu dia a dia). Se um conteúdo buscado não tiver muita qualidade, ou seja, pouco acesso, baixa relevância e sem embasamento científico, ignore e busque algo melhor. Essas informações devem ser mostradas em português brasileiro (se tiver algo de outro país, faça a tradução para o português do Brasil para que possa ser utilizado), de no máximo 3 meses antes da data de hoje. Se limite a trazer até 7 tópicos no conteúdo buscado.\n",
        "        \"\"\"\n",
        "    )\n",
        "    entrada_do_agente_buscador = f\"Tópico: {topico}\\nData de hoje: {data_de_hoje}\"\n",
        "\n",
        "    # Executa o agente\n",
        "    lancamentos_buscados = call_agent(buscador, entrada_do_agente_buscador)\n",
        "    return lancamentos_buscados"
      ],
      "metadata": {
        "id": "42i4-ZTEtln1"
      },
      "execution_count": null,
      "outputs": []
    },
    {
      "cell_type": "code",
      "source": [
        "################################################\n",
        "# --- Agente 2: Planejador de treinos --- #\n",
        "################################################\n",
        "def agente_planejador(topico, lancamentos_buscados):\n",
        "    planejador = Agent(\n",
        "        name=\"agente_planejador\",\n",
        "        model=\"gemini-2.0-flash\",\n",
        "        # Inserir as instruções do Agente Planejador #################################################\n",
        "        instruction=\"\"\"\n",
        "        Você é um planejador de conteúdo, especialista em atividade física, mundo fitness, educação física e personal trainner. Com base na lista de lançamentos mais recentes e relevantes buscados, você deve:\tUsar a ferramenta de busca do Google (google_search) para criar um plano de treinamentos e prática de atividade física, sobre quais são os pontos mais relevantes que poderiamos abordar compor um plano de treinamento de atividades físicas. Você também pode usar o (google_search) para encontrar mais informações sobre os temas e aprofundar. Ao final, você irá escolher de três até sete práticas de atividades físicas, seus seus pontos mais relevantes, e um plano com esses tópicos a serem abordados em um planto de treinos que será desenvolvido posteriormente.\n",
        "        \"\"\",\n",
        "        description=\"Agente que planeja treinamentos\",\n",
        "        tools=[google_search]\n",
        "    )\n",
        "\n",
        "    entrada_do_agente_planejador = f\"Tópico:{topico}\\nLançamentos buscados: {lancamentos_buscados}\"\n",
        "    # Executa o agente\n",
        "    plano_do_post = call_agent(planejador, entrada_do_agente_planejador)\n",
        "    return plano_do_post"
      ],
      "metadata": {
        "id": "PYDkKpaktqpC"
      },
      "execution_count": null,
      "outputs": []
    },
    {
      "cell_type": "code",
      "source": [
        "######################################\n",
        "# --- Agente 3: Prescritor do Treinos --- #\n",
        "######################################\n",
        "def agente_redator(topico, plano_de_post):\n",
        "    redator = Agent(\n",
        "        name=\"agente_redator\",\n",
        "        model=\"gemini-2.0-flash\",\n",
        "        instruction=\"\"\"\n",
        "            Você é um prescritor de treinos, especialista em mundo fitness e educação física. Você prescreve treinos para a empresa FitNerd, a maior rede de academias do Brasil. Utilize o material fornecido no plano de treino e os pontos mais relevantes fornecidos e, com base nisso, escreva um plano de treino que inclua a execução perfeita da atividade física e as melhores práticas a serem adotadas para este plano em um rascunho que será utilizado na academia FitNerd. O plano deve ser engajador, informativo, com linguagem simples e incluir de 3 até 7 exercícios.\n",
        "            \"\"\",\n",
        "        description=\"Agente redator de planos de treino para a academia FitNerd\"\n",
        "    )\n",
        "    entrada_do_agente_redator = f\"Tópico: {topico}\\nPlano de post: {plano_de_post}\"\n",
        "    # Executa o agente\n",
        "    rascunho = call_agent(redator, entrada_do_agente_redator)\n",
        "    return rascunho"
      ],
      "metadata": {
        "id": "Ks8T9vm8tvXV"
      },
      "execution_count": null,
      "outputs": []
    },
    {
      "cell_type": "code",
      "source": [
        "##########################################\n",
        "# --- Agente 4: Revisor de Qualidade --- #\n",
        "##########################################\n",
        "def agente_revisor(topico, rascunho_gerado):\n",
        "    revisor = Agent(\n",
        "        name=\"agente_revisor\",\n",
        "        model=\"gemini-2.0-flash\",\n",
        "        instruction=\"\"\"\n",
        "            Você é um Editor e Revisor de Conteúdo meticuloso, especializado em academias, prática de atividades física, mundo fitness e educação física. Você está atendendo alunos do nível intermediário, logo possuem uma boa compreensão de termos de academia, estão seguindo com o seu cuidado do físico e saúde. Revise o rascunho do plano de treinamento da academia \"FitNerd\" verificando clareza, concisão, correção e tom. Se o plano de treino estiver bom, responda apenas 'O plano está ótimo e pronto para ser gerado!'. Caso haja problemas, aponte-os e sugira melhorias.\n",
        "            \"\"\",\n",
        "        description=\"Agente revisor de plano de treinamentos para a FitNerd.\"\n",
        "    )\n",
        "    entrada_do_agente_revisor = f\"Tópico: {topico}\\nRascunho: {rascunho_gerado}\"\n",
        "    # Executa o agente\n",
        "    texto_revisado = call_agent(revisor, entrada_do_agente_revisor)\n",
        "    return texto_revisado"
      ],
      "metadata": {
        "id": "4jFlmrWStzj0"
      },
      "execution_count": null,
      "outputs": []
    },
    {
      "cell_type": "code",
      "source": [
        "data_de_hoje = date.today().strftime(\"%d/%m/%Y\")\n",
        "\n",
        "print(\"🚀 Iniciando o Sistema de apoio ao aluno iniciante da FitNerd com 4 Agentes 🚀\")\n",
        "\n",
        "# --- Obter o Tópico do Usuário ---\n",
        "topico = input(\"❓ Por favor, digite o TÓPICO sobre o qual você quer gerar o seu treino: \")\n",
        "\n",
        "# Inserir lógica do sistema de agentes ################################################\n",
        "if not topico:\n",
        "\tprint(\"Você esqueceu de digitar o tópico!\")\n",
        "else:\n",
        "\tprint (f\"Maravilha! Vamos então vamos criar o seu plano: {topico}\")\n",
        "\n",
        "lancamentos_buscados = agente_buscador(topico, data_de_hoje)\n",
        "print(\"\\n--- Resultados do Agente 1 (Buscador) ---\\n\")\n",
        "display(to_markdown(lancamentos_buscados))\n",
        "print(\"----------------------------------------------------\")\n",
        "\n",
        "plano_de_post = agente_planejador(topico, lancamentos_buscados)\n",
        "print(\"\\n--- Resultado do Agente 2 (Planejador) ---\\n\")\n",
        "display(to_markdown(plano_de_post))\n",
        "print(\"----------------------------------------------------\")\n",
        "\n",
        "rascunho_de_post = agente_redator(topico, plano_de_post)\n",
        "print(\"\\n--- 📝 Resultado do Agente 3 (Redator) ---\\n\")\n",
        "display(to_markdown(rascunho_de_post))\n",
        "print(\"--------------------------------------------------------------\")\n",
        "\n",
        "post_final = agente_revisor(topico, rascunho_de_post)\n",
        "print(\"\\n--- 📝 Resultado do Agente 4 (Revisor) ---\\n\")\n",
        "display(to_markdown(post_final))\n",
        "print(\"--------------------------------------------------------------\")"
      ],
      "metadata": {
        "colab": {
          "base_uri": "https://localhost:8080/",
          "height": 1000
        },
        "id": "uFWsj0_Mt5Cm",
        "outputId": "f02b8363-4c7f-4243-a883-75c0ad6cc345"
      },
      "execution_count": null,
      "outputs": [
        {
          "output_type": "stream",
          "name": "stdout",
          "text": [
            "🚀 Iniciando o Sistema de apoio ao aluno iniciante da FitNerd com 4 Agentes 🚀\n",
            "❓ Por favor, digite o TÓPICO sobre o qual você quer gerar o seu treino: Treino de peito\n",
            "Maravilha! Vamos então vamos criar o seu plano de treinamento Treino de peito\n",
            "\n",
            "--- Resultados do Agente 1 (Buscador) ---\n",
            "\n"
          ]
        },
        {
          "output_type": "display_data",
          "data": {
            "text/plain": [
              "<IPython.core.display.Markdown object>"
            ],
            "text/markdown": "> Olá! Para otimizar seu treino de peito, preparei algumas dicas e informações relevantes com base em pesquisas recentes. Veja só:\n> \n>  \n> Com certeza! Para te ajudar a montar um treino de peito eficiente, aqui estão algumas dicas valiosas e informações relevantes:\n> \n>  1. **Exercícios Essenciais:**\n>  *   **Supino Reto:** Clássico para trabalhar a parte central do peitoral.\n>  *   **Supino Inclinado:** Ideal para a parte superior do peito (cabeça clavicular), contribuindo para uma estética mais completa.\n>  *   **Supino Declinado:** Ótimo para a porção inferior do peitoral, ajudando a criar a impressão de um peitoral mais volumoso.\n>  *   **Crucifixo:** Essencial para trabalhar o peitoral de forma isolada, permitindo uma maior amplitude e alongamento das fibras musculares.\n>  *   **Voador (Peck Deck):** Outro exercício de isolamento que estabiliza o movimento, ótimo para quem tem dificuldade em sentir o peitoral trabalhando em exercícios como o supino.\n>  *   **Flexões:** Um exercício fundamental que pode ser feito em qualquer lugar, ativando o peitoral de forma similar ao supino reto.\n> \n>  2. **Dicas para Hipertrofia:**\n>  *   **Amplitude Máxima e Controle:** Priorize a execução correta dos movimentos, garantindo que o peitoral seja ativado ao máximo em cada repetição.\n>  *   **Cargas Adequadas:** Use cargas que permitam uma execução perfeita, com ajuda apenas para técnicas avançadas ou segurança.\n>  *   **Frequência:** Treine peito de 1 a 2 vezes por semana, ajustando a frequência de acordo com sua recuperação e necessidades.\n>  *   **Técnicas Avançadas:** Utilize técnicas como dropsets, supersets e pré-exaustão para intensificar o treino e promover maior estímulo muscular.\n> \n>  3. **Priorize a Técnica:**\n>  *   **Evite Abdução Escapular:** Não deixe os ombros avançarem durante os exercícios para evitar lesões e garantir que o foco permaneça no peitoral.\n>  *   **Conexão Mente-Músculo:** Concentre-se em sentir o peitoral trabalhando durante cada repetição, maximizando a ativação muscular.\n> \n>  4. **Variações e Ordem dos Exercícios:**\n>  *   **Mude a Ordem:** Comece com exercícios diferentes do habitual para um novo estímulo. Por exemplo, inicie com o supino inclinado ou voador antes do supino reto.\n>  *   **Use Halteres:** Trocar a barra por halteres pode aumentar a amplitude e o recrutamento muscular em alguns exercícios.\n>  *   **Crossover com Polia:** Ajuste as polias em diferentes alturas (alta, média e baixa) para trabalhar todas as partes do peitoral.\n> \n>  5. **Flexibilidade e Alongamento:**\n>  *   **Alongamento:** Alongue o peitoral após o treino para melhorar a flexibilidade e recuperação muscular.\n> \n>  6. **Importância do Treino de Peito:**\n>  *   **Estabilização:** Melhora a estabilização da articulação da escápula e o fortalecimento do tronco.\n>  *   **Equilíbrio:** Contribui para o desenvolvimento do volume muscular, aumentando a força e o equilíbrio corporal.\n> \n>  7. **Exemplo de Treino:**\n>  *   Supino reto com barra: 3 séries de 8-12 repetições\n>  *   Supino inclinado com halteres: 3 séries de 8-12 repetições\n>  *   Crucifixo reto: 3 séries de 10-15 repetições\n>  *   Voador (Peck Deck): 3 séries de 10-15 repetições\n>  *   Flexões: 3 séries até a falha\n> \n>  Lembre-se sempre de consultar um profissional de educação física para personalizar o treino de acordo com suas necessidades e objetivos, garantindo a segurança e eficácia dos exercícios.\n> \n"
          },
          "metadata": {}
        },
        {
          "output_type": "stream",
          "name": "stdout",
          "text": [
            "----------------------------------------------------\n",
            "\n",
            "--- Resultado do Agente 2 (Planejador) ---\n",
            "\n"
          ]
        },
        {
          "output_type": "display_data",
          "data": {
            "text/plain": [
              "<IPython.core.display.Markdown object>"
            ],
            "text/markdown": "> Com base nas informações fornecidas, podemos criar um plano de treinamento de peito abrangente, abordando os seguintes pontos-chave:\n> \n>  **1. Exercícios Fundamentais e Variações:**\n> \n>  *   **Supino Reto:** Variações com barra e halteres. Ênfase na técnica e amplitude.\n>  *   **Supino Inclinado:** Variações com barra e halteres. Foco na porção superior do peito.\n>  *   **Supino Declinado:** Para a porção inferior do peitoral.\n>  *   **Crucifixo:** Reto, inclinado e declinado. Importância da amplitude e alongamento.\n>  *   **Voador (Peck Deck):** Estabilização e isolamento do peitoral.\n>  *   **Flexões:** Variações para diferentes níveis de dificuldade.\n> \n>  **2. Técnicas de Intensificação:**\n> \n>  *   **Dropsets:** Redução da carga para continuar o exercício até a falha.\n>  *   **Supersets:** Combinação de dois exercícios sem descanso.\n>  *   **Pré-exaustão:** Isolamento antes de exercícios compostos.\n> \n>  **3. Ordem dos Exercícios e Variação:**\n> \n>  *   **Priorização:** Alternar a ordem dos exercícios para estimular diferentes áreas do peitoral.\n>  *   **Halteres vs. Barra:** Benefícios do uso de halteres para amplitude e recrutamento muscular.\n>  *   **Crossover com Polia:** Ajuste das polias para trabalhar diferentes ângulos.\n> \n>  **4. Foco na Técnica e Conexão Mente-Músculo:**\n> \n>  *   **Amplitude Máxima:** Garantir a ativação completa do peitoral em cada repetição.\n>  *   **Controle:** Evitar movimentos bruscos e manter o foco na contração muscular.\n>  *   **Conexão Mente-Músculo:** Concentrar-se em sentir o peitoral trabalhando.\n> \n>  **5. Flexibilidade e Recuperação:**\n> \n>  *   **Alongamento:** Importância do alongamento pós-treino para flexibilidade e recuperação.\n> \n>  **6. Frequência e Volume:**\n> \n>  *   **Frequência:** Ajustar a frequência (1-2 vezes por semana) de acordo com a recuperação.\n>  *   **Volume:** Variar o número de séries e repetições para evitar platôs.\n> \n>  **7. Progressão e Personalização:**\n> \n>  *   **Sobrecarga Progressiva:** Aumentar gradualmente a carga ou a dificuldade dos exercícios.\n>  *   **Personalização:** Adaptar o treino às necessidades individuais e objetivos.\n> \n>  **Plano de Treinamento Proposto:**\n> \n>  1.  **Supino Inclinado com Halteres:** 3 séries de 8-12 repetições.\n>  2.  **Supino Reto com Barra:** 3 séries de 8-12 repetições.\n>  3.  **Crucifixo Reto:** 3 séries de 10-15 repetições.\n>  4.  **Voador (Peck Deck):** 3 séries de 10-15 repetições (dropset na última série).\n>  5.  **Crossover com Polia (alta):** 3 séries de 12-15 repetições.\n>  6.  **Flexões:** 3 séries até a falha.\n>  7.  **Alongamento do Peitoral:** 2-3 minutos.\n> \n>  Este plano de treinamento pode ser adaptado e ajustado de acordo com o nível de experiência, objetivos e disponibilidade de cada indivíduo. É sempre recomendado consultar um profissional de educação física para garantir a segurança e eficácia do treino.\n> \n>  Gostaria de ajuda para refinar o plano, com mais detalhes sobre progressão de cargas ou variações de exercícios?\n> \n"
          },
          "metadata": {}
        },
        {
          "output_type": "stream",
          "name": "stdout",
          "text": [
            "----------------------------------------------------\n",
            "\n",
            "--- 📝 Resultado do Agente 3 (Redator) ---\n",
            "\n"
          ]
        },
        {
          "output_type": "display_data",
          "data": {
            "text/plain": [
              "<IPython.core.display.Markdown object>"
            ],
            "text/markdown": "> ## Rascunho do Treino de Peito FitNerd: Peitoral de Aço!\n> \n> **Fala, Nerds!** Preparados para turbinar o peitoral e alcançar resultados incríveis? A FitNerd preparou um plano de treino completo, focado em técnica, intensidade e progressão para você conquistar o peito dos seus sonhos. 💪\n> \n> **Importante:** Consulte sempre um profissional de educação física da FitNerd para adaptar o treino às suas necessidades e garantir a execução correta dos exercícios.\n> \n> **Aquecimento (5 minutos):**\n> \n> *   Cardio leve (esteira, bicicleta)\n> *   Mobilidade articular (rotação de ombros, braços e punhos)\n> *   2 séries de 15 repetições de flexões no joelho\n> \n> **Treino (30-40 minutos):**\n> \n> **1. Supino Inclinado com Halteres (3 séries de 8-12 repetições):**\n> \n> *   **Por que?** Foca na porção superior do peitoral, dando aquele \"upgrade\" no visual.\n> *   **Como fazer:** Deite-se em um banco inclinado (30-45 graus), segurando um halter em cada mão. Desça os halteres controladamente até a altura do peito e empurre-os de volta à posição inicial, contraindo o peitoral.\n> *   **Dica FitNerd:** Mantenha os cotovelos levemente flexionados para evitar lesões e sinta o músculo trabalhar em cada repetição.\n> \n> **2. Supino Reto com Barra (3 séries de 8-12 repetições):**\n> \n> *   **Por que?** Exercício fundamental para construir massa muscular e força no peitoral.\n> *   **Como fazer:** Deite-se em um banco reto, com a barra posicionada acima do peito. Segure a barra com as mãos um pouco mais afastadas que a largura dos ombros. Desça a barra controladamente até o peito e empurre-a de volta à posição inicial.\n> *   **Dica FitNerd:** Peça ajuda a um parceiro para garantir a segurança, especialmente ao lidar com cargas mais altas.\n> \n> **3. Crucifixo Reto (3 séries de 10-15 repetições):**\n> \n> *   **Por que?** Alonga e define o peitoral, promovendo um maior recrutamento muscular.\n> *   **Como fazer:** Deite-se em um banco reto, segurando um halter em cada mão. Abra os braços lateralmente, mantendo uma leve flexão nos cotovelos, até sentir um alongamento no peitoral. Retorne à posição inicial, contraindo o peitoral.\n> *   **Dica FitNerd:** Concentre-se em sentir o alongamento e a contração do peitoral em cada repetição.\n> \n> **4. Voador (Peck Deck) (3 séries de 10-15 repetições + Dropset na última série):**\n> \n> *   **Por que?** Isola o peitoral, proporcionando um trabalho intenso e focado.\n> *   **Como fazer:** Sente-se na máquina, ajuste a altura dos braços e segure as alças. Feche os braços à frente do corpo, contraindo o peitoral. Retorne à posição inicial controladamente.\n> *   **Dica FitNerd:** Na última série, após atingir a falha muscular, reduza a carga e continue executando o exercício até a exaustão (dropset).\n> \n> **5. Crossover com Polia (alta) (3 séries de 12-15 repetições):**\n> \n> *   **Por que?** Permite trabalhar diferentes ângulos do peitoral, promovendo um desenvolvimento completo.\n> *   **Como fazer:** Posicione-se no centro da máquina, segurando as polias altas. Incline o corpo levemente à frente e puxe as polias em direção ao centro do corpo, contraindo o peitoral. Retorne à posição inicial controladamente.\n> *   **Dica FitNerd:** Ajuste a altura das polias para variar o ângulo de trabalho e atingir diferentes áreas do peitoral.\n> \n> **6. Flexões (3 séries até a falha):**\n> \n> *   **Por que?** Exercício funcional que trabalha o peitoral, ombros e tríceps, além de fortalecer o core.\n> *   **Como fazer:** Apoie as mãos no chão, com os braços na largura dos ombros. Abaixe o corpo até o peito quase tocar o chão e empurre-o de volta à posição inicial.\n> *   **Dica FitNerd:** Se as flexões tradicionais forem muito difíceis, apoie os joelhos no chão para facilitar o movimento.\n> \n> **7. Alongamento do Peitoral (2-3 minutos):**\n> \n> *   **Por que?** Melhora a flexibilidade, previne lesões e auxilia na recuperação muscular.\n> *   **Como fazer:**\n>     *   **Alongamento da porta:** Posicione-se em uma porta, segurando as laterais com as mãos. Incline o corpo à frente até sentir um alongamento no peitoral.\n>     *   **Alongamento com as mãos atrás das costas:** Entrelace os dedos atrás das costas e estique os braços para trás, abrindo o peito.\n> *   **Dica FitNerd:** Mantenha cada alongamento por 20-30 segundos, respirando profundamente.\n> \n> **Progressão:**\n> \n> *   **Carga:** Aumente a carga gradualmente, sempre que possível, mantendo a técnica correta.\n> *   **Repetições:** Se conseguir realizar mais de 12 repetições com facilidade, aumente a carga.\n> *   **Variação:** Varie os exercícios a cada 4-6 semanas para evitar platôs e manter o estímulo muscular.\n> *   **Técnicas de Intensificação:** Utilize técnicas como dropsets e supersets para aumentar a intensidade do treino.\n> \n> **Recuperação:**\n> \n> *   **Descanso:** Descanse adequadamente entre os treinos (48-72 horas) para permitir a recuperação muscular.\n> *   **Alimentação:** Consuma proteínas e carboidratos de qualidade para fornecer energia e nutrientes para a recuperação muscular.\n> *   **Sono:** Durma de 7 a 8 horas por noite para otimizar a recuperação e o crescimento muscular.\n> \n> **Observações:**\n> \n> *   Mantenha a postura correta durante todos os exercícios.\n> *   Controle a respiração, expirando na fase concêntrica (contração) e inspirando na fase excêntrica (relaxamento).\n> *   Concentre-se em sentir o músculo trabalhando em cada repetição.\n> *   Não tenha pressa, execute os exercícios com calma e controle.\n> *   Divirta-se e desafie-se a cada treino!\n> \n> **#FitNerd #TreinoDePeito #PeitoralDeAço #VemPraFitNerd**\n"
          },
          "metadata": {}
        },
        {
          "output_type": "stream",
          "name": "stdout",
          "text": [
            "--------------------------------------------------------------\n",
            "\n",
            "--- 📝 Resultado do Agente 4 (Revisor) ---\n",
            "\n"
          ]
        },
        {
          "output_type": "display_data",
          "data": {
            "text/plain": [
              "<IPython.core.display.Markdown object>"
            ],
            "text/markdown": "> O plano está ótimo e pronto para ser gerado!\n"
          },
          "metadata": {}
        },
        {
          "output_type": "stream",
          "name": "stdout",
          "text": [
            "--------------------------------------------------------------\n"
          ]
        }
      ]
    }
  ]
}