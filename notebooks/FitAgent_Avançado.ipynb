{
  "nbformat": 4,
  "nbformat_minor": 0,
  "metadata": {
    "colab": {
      "provenance": []
    },
    "kernelspec": {
      "name": "python3",
      "display_name": "Python 3"
    },
    "language_info": {
      "name": "python"
    }
  },
  "cells": [
    {
      "cell_type": "code",
      "source": [
        "#Iniciando com a instalação da ADK\n",
        "%pip -q install google-adk"
      ],
      "metadata": {
        "colab": {
          "base_uri": "https://localhost:8080/"
        },
        "id": "VRxieRfI3_hd",
        "outputId": "28c5213e-5255-4e46-88a6-1c692130cff2"
      },
      "execution_count": null,
      "outputs": [
        {
          "output_type": "stream",
          "name": "stdout",
          "text": [
            "\u001b[?25l   \u001b[90m━━━━━━━━━━━━━━━━━━━━━━━━━━━━━━━━━━━━━━━━\u001b[0m \u001b[32m0.0/1.2 MB\u001b[0m \u001b[31m?\u001b[0m eta \u001b[36m-:--:--\u001b[0m\r\u001b[2K   \u001b[91m━━━━━━━━━━━━━━━━━━━━━━━━━━━━━\u001b[0m\u001b[91m╸\u001b[0m\u001b[90m━━━━━━━━━━\u001b[0m \u001b[32m0.9/1.2 MB\u001b[0m \u001b[31m26.1 MB/s\u001b[0m eta \u001b[36m0:00:01\u001b[0m\r\u001b[2K   \u001b[91m━━━━━━━━━━━━━━━━━━━━━━━━━━━━━━━━━━━━━━━\u001b[0m\u001b[91m╸\u001b[0m \u001b[32m1.2/1.2 MB\u001b[0m \u001b[31m23.7 MB/s\u001b[0m eta \u001b[36m0:00:01\u001b[0m\r\u001b[2K   \u001b[90m━━━━━━━━━━━━━━━━━━━━━━━━━━━━━━━━━━━━━━━━\u001b[0m \u001b[32m1.2/1.2 MB\u001b[0m \u001b[31m10.7 MB/s\u001b[0m eta \u001b[36m0:00:00\u001b[0m\n",
            "\u001b[2K   \u001b[90m━━━━━━━━━━━━━━━━━━━━━━━━━━━━━━━━━━━━━━━━\u001b[0m \u001b[32m232.1/232.1 kB\u001b[0m \u001b[31m9.6 MB/s\u001b[0m eta \u001b[36m0:00:00\u001b[0m\n",
            "\u001b[2K   \u001b[90m━━━━━━━━━━━━━━━━━━━━━━━━━━━━━━━━━━━━━━━━\u001b[0m \u001b[32m95.2/95.2 kB\u001b[0m \u001b[31m3.6 MB/s\u001b[0m eta \u001b[36m0:00:00\u001b[0m\n",
            "\u001b[2K   \u001b[90m━━━━━━━━━━━━━━━━━━━━━━━━━━━━━━━━━━━━━━━━\u001b[0m \u001b[32m217.1/217.1 kB\u001b[0m \u001b[31m4.3 MB/s\u001b[0m eta \u001b[36m0:00:00\u001b[0m\n",
            "\u001b[2K   \u001b[90m━━━━━━━━━━━━━━━━━━━━━━━━━━━━━━━━━━━━━━━━\u001b[0m \u001b[32m334.1/334.1 kB\u001b[0m \u001b[31m12.5 MB/s\u001b[0m eta \u001b[36m0:00:00\u001b[0m\n",
            "\u001b[2K   \u001b[90m━━━━━━━━━━━━━━━━━━━━━━━━━━━━━━━━━━━━━━━━\u001b[0m \u001b[32m125.1/125.1 kB\u001b[0m \u001b[31m6.6 MB/s\u001b[0m eta \u001b[36m0:00:00\u001b[0m\n",
            "\u001b[2K   \u001b[90m━━━━━━━━━━━━━━━━━━━━━━━━━━━━━━━━━━━━━━━━\u001b[0m \u001b[32m65.8/65.8 kB\u001b[0m \u001b[31m4.2 MB/s\u001b[0m eta \u001b[36m0:00:00\u001b[0m\n",
            "\u001b[2K   \u001b[90m━━━━━━━━━━━━━━━━━━━━━━━━━━━━━━━━━━━━━━━━\u001b[0m \u001b[32m119.0/119.0 kB\u001b[0m \u001b[31m6.8 MB/s\u001b[0m eta \u001b[36m0:00:00\u001b[0m\n",
            "\u001b[2K   \u001b[90m━━━━━━━━━━━━━━━━━━━━━━━━━━━━━━━━━━━━━━━━\u001b[0m \u001b[32m194.9/194.9 kB\u001b[0m \u001b[31m10.8 MB/s\u001b[0m eta \u001b[36m0:00:00\u001b[0m\n",
            "\u001b[2K   \u001b[90m━━━━━━━━━━━━━━━━━━━━━━━━━━━━━━━━━━━━━━━━\u001b[0m \u001b[32m62.5/62.5 kB\u001b[0m \u001b[31m3.2 MB/s\u001b[0m eta \u001b[36m0:00:00\u001b[0m\n",
            "\u001b[2K   \u001b[90m━━━━━━━━━━━━━━━━━━━━━━━━━━━━━━━━━━━━━━━━\u001b[0m \u001b[32m103.3/103.3 kB\u001b[0m \u001b[31m6.3 MB/s\u001b[0m eta \u001b[36m0:00:00\u001b[0m\n",
            "\u001b[2K   \u001b[90m━━━━━━━━━━━━━━━━━━━━━━━━━━━━━━━━━━━━━━━━\u001b[0m \u001b[32m44.4/44.4 kB\u001b[0m \u001b[31m2.5 MB/s\u001b[0m eta \u001b[36m0:00:00\u001b[0m\n",
            "\u001b[2K   \u001b[90m━━━━━━━━━━━━━━━━━━━━━━━━━━━━━━━━━━━━━━━━\u001b[0m \u001b[32m72.0/72.0 kB\u001b[0m \u001b[31m3.7 MB/s\u001b[0m eta \u001b[36m0:00:00\u001b[0m\n",
            "\u001b[?25h"
          ]
        }
      ]
    },
    {
      "cell_type": "code",
      "source": [
        "#Importação dos módulos genai e types\n",
        "from google import genai\n",
        "from google.genai import types\n",
        "\n",
        "#Importação das classes Agent, Runner, InMemorySessionService e google_search\n",
        "from google.adk.agents import Agent\n",
        "from google.adk.runners import Runner\n",
        "from google.adk.sessions import InMemorySessionService\n",
        "from google.adk.tools import google_search\n",
        "\n",
        "#Importação do módulo de datas, para trabalhar com datas\n",
        "from datetime import date\n",
        "\n",
        "#Importação do textwrap, para manipular quebra de linhas e formatar textos\n",
        "import textwrap\n",
        "\n",
        "#Importação das funções display e Markdown, para estilizações\n",
        "from IPython.display import display, Markdown\n",
        "\n",
        "#Importação da biblioteca request, para interação HTTP\n",
        "import requests\n",
        "\n",
        "#Importação do módulo warning, para controle de avisos e função pra ignorar avisos.\n",
        "import warnings\n",
        "warnings.filterwarnings(\"ignore\")"
      ],
      "metadata": {
        "id": "TlJ1oDoZr-BE"
      },
      "execution_count": null,
      "outputs": []
    },
    {
      "cell_type": "code",
      "source": [
        "# Configura a API Key do Google Gemini\n",
        "\n",
        "import os\n",
        "\n",
        "from google.colab import userdata\n",
        "\n",
        "os.environ[\"GOOGLE_API_KEY\"] = userdata.get('GOOGLE_API_KEY')"
      ],
      "metadata": {
        "id": "CY28q9LuA2e4"
      },
      "execution_count": null,
      "outputs": []
    },
    {
      "cell_type": "code",
      "source": [
        "# Função auxiliar que envia uma mensagem para um agente via Runner e retorna a resposta final\n",
        "def call_agent(agent: Agent, message_text: str) -> str:\n",
        "    # Cria um serviço de sessão em memória\n",
        "    session_service = InMemorySessionService()\n",
        "    # Cria uma nova sessão (você pode personalizar os IDs conforme necessário)\n",
        "    session = session_service.create_session(app_name=agent.name, user_id=\"user1\", session_id=\"session1\")\n",
        "    # Cria um Runner para o agente\n",
        "    runner = Runner(agent=agent, app_name=agent.name, session_service=session_service)\n",
        "    # Cria o conteúdo da mensagem de entrada\n",
        "    content = types.Content(role=\"user\", parts=[types.Part(text=message_text)])\n",
        "\n",
        "    final_response = \"\"\n",
        "    # Itera assincronamente pelos eventos retornados durante a execução do agente\n",
        "    for event in runner.run(user_id=\"user1\", session_id=\"session1\", new_message=content):\n",
        "        if event.is_final_response():\n",
        "          for part in event.content.parts:\n",
        "            if part.text is not None:\n",
        "              final_response += part.text\n",
        "              final_response += \"\\n\"\n",
        "    return final_response"
      ],
      "metadata": {
        "id": "LfoovUVmtc9W"
      },
      "execution_count": null,
      "outputs": []
    },
    {
      "cell_type": "code",
      "source": [
        "# Função auxiliar para exibir texto formatado em Markdown no Colab\n",
        "def to_markdown(text):\n",
        "  text = text.replace('•', '  *')\n",
        "  return Markdown(textwrap.indent(text, '> ', predicate=lambda _: True))"
      ],
      "metadata": {
        "id": "M-TV3KuEthm3"
      },
      "execution_count": null,
      "outputs": []
    },
    {
      "cell_type": "code",
      "source": [
        "##########################################\n",
        "# --- Agente 1: Buscador de Dicas --- #\n",
        "##########################################\n",
        "\n",
        "def agente_buscador(topico, data_de_hoje):\n",
        "    buscador = Agent(\n",
        "        name=\"agente_buscador\",\n",
        "        model=\"gemini-2.0-flash\",\n",
        "        description=\"Agente que busca informações sobre treino para alunos de nível avançado.\",\n",
        "        tools=[google_search],\n",
        "        instruction=\"\"\"\n",
        "        Você é um assistente de pesquisas, que está auxiliando um aluno que possui uma vasta experiência com exercícios físicos e profundo conhecedor da prática de atividade física. Sua tarefa é usar a ferramenta de busca do google (google_search)para pesquisar por informações sobre treinos, atividades físicas, benefícios para a saúde através da atividade física e assuntos correlacionados ao mundo fitness, inclusive, dicas para o dia a dia saudável. Não seja prolixo, traga informações relevantes, de fácil compreensão e sempre traga informações com embassamento científico (não complique a cabeça do nosso aluno, embora de nível avançado, ele é experiente e pode, inclusive, querer te ensinar rs). Se um conteúdo buscado não tiver muita qualidade, ou seja, pouco acesso, baixa relevância e sem embasamento científico, ignore e busque algo melhor. Essas informações devem ser mostradas em português brasileiro (se tiver algo de outro país, faça a tradução para o português do Brasil para que possa ser utilizado), de no máximo 3 meses antes da data de hoje. Se limite a trazer até 10 tópicos no conteúdo buscado.\n",
        "        \"\"\"\n",
        "    )\n",
        "    entrada_do_agente_buscador = f\"Tópico: {topico}\\nData de hoje: {data_de_hoje}\"\n",
        "\n",
        "    # Executa o agente\n",
        "    lancamentos_buscados = call_agent(buscador, entrada_do_agente_buscador)\n",
        "    return lancamentos_buscados"
      ],
      "metadata": {
        "id": "42i4-ZTEtln1"
      },
      "execution_count": null,
      "outputs": []
    },
    {
      "cell_type": "code",
      "source": [
        "################################################\n",
        "# --- Agente 2: Planejador de treinos --- #\n",
        "################################################\n",
        "def agente_planejador(topico, lancamentos_buscados):\n",
        "    planejador = Agent(\n",
        "        name=\"agente_planejador\",\n",
        "        model=\"gemini-2.0-flash\",\n",
        "        # Inserir as instruções do Agente Planejador #################################################\n",
        "        instruction=\"\"\"\n",
        "        Você é um planejador de conteúdo, especialista em atividade física, mundo fitness, educação física e personal trainner. Com base na lista de lançamentos mais recentes e relevantes buscados, você deve:\tUsar a ferramenta de busca do Google (google_search) para criar um plano de treinamentos e prática de atividade física, sobre quais são os pontos mais relevantes que poderiamos abordar compor um plano de treinamento de atividades físicas. Você também pode usar o (google_search) para encontrar mais informações sobre os temas e aprofundar. Ao final, você irá escolher de três até sete práticas de atividades físicas, seus seus pontos mais relevantes, e um plano com esses tópicos a serem abordados em um planto de treinos que será desenvolvido posteriormente.\n",
        "        \"\"\",\n",
        "        description=\"Agente que planeja treinamentos\",\n",
        "        tools=[google_search]\n",
        "    )\n",
        "\n",
        "    entrada_do_agente_planejador = f\"Tópico:{topico}\\nLançamentos buscados: {lancamentos_buscados}\"\n",
        "    # Executa o agente\n",
        "    plano_do_post = call_agent(planejador, entrada_do_agente_planejador)\n",
        "    return plano_do_post"
      ],
      "metadata": {
        "id": "PYDkKpaktqpC"
      },
      "execution_count": null,
      "outputs": []
    },
    {
      "cell_type": "code",
      "source": [
        "######################################\n",
        "# --- Agente 3: Prescritor do Treinos --- #\n",
        "######################################\n",
        "def agente_redator(topico, plano_de_post):\n",
        "    redator = Agent(\n",
        "        name=\"agente_redator\",\n",
        "        model=\"gemini-2.0-flash\",\n",
        "        instruction=\"\"\"\n",
        "            Você é um prescritor de treinos, especialista em mundo fitness e educação física. Você prescreve treinos para a empresa FitNerd, a maior rede de academias do Brasil. Utilize o material fornecido no plano de treino e os pontos mais relevantes fornecidos e, com base nisso, escreva um plano de treino que inclua a execução perfeita da atividade física e as melhores práticas a serem adotadas para este plano em um rascunho que será utilizado na academia FitNerd. O plano deve ser engajador, informativo, com linguagem simples e incluir de 7 até 10 exercícios.\n",
        "            \"\"\",\n",
        "        description=\"Agente redator de planos de treino para a academia FitNerd\"\n",
        "    )\n",
        "    entrada_do_agente_redator = f\"Tópico: {topico}\\nPlano de post: {plano_de_post}\"\n",
        "    # Executa o agente\n",
        "    rascunho = call_agent(redator, entrada_do_agente_redator)\n",
        "    return rascunho"
      ],
      "metadata": {
        "id": "Ks8T9vm8tvXV"
      },
      "execution_count": null,
      "outputs": []
    },
    {
      "cell_type": "code",
      "source": [
        "##########################################\n",
        "# --- Agente 4: Revisor de Qualidade --- #\n",
        "##########################################\n",
        "def agente_revisor(topico, rascunho_gerado):\n",
        "    revisor = Agent(\n",
        "        name=\"agente_revisor\",\n",
        "        model=\"gemini-2.0-flash\",\n",
        "        instruction=\"\"\"\n",
        "            Você é um Editor e Revisor de Conteúdo meticuloso, especializado em academias, prática de atividades física, mundo fitness e educação física. Você está atendendo alunos do nível avançado, logo possuem uma excelente compreensão de termos de academia, estão investindo muito em tempo e resultados, pois pretendem competir em grandes dispustas do estilo Mr Olimpia. Revise o rascunho do plano de treinamento da academia \"FitNerd\" verificando clareza, concisão, correção e tom. Se o plano de treino estiver bom, responda apenas 'O plano está ótimo e pronto para ser gerado!'. Caso haja problemas, aponte-os e sugira melhorias.\n",
        "            \"\"\",\n",
        "        description=\"Agente revisor de plano de treinamentos para a FitNerd.\"\n",
        "    )\n",
        "    entrada_do_agente_revisor = f\"Tópico: {topico}\\nRascunho: {rascunho_gerado}\"\n",
        "    # Executa o agente\n",
        "    texto_revisado = call_agent(revisor, entrada_do_agente_revisor)\n",
        "    return texto_revisado"
      ],
      "metadata": {
        "id": "4jFlmrWStzj0"
      },
      "execution_count": null,
      "outputs": []
    },
    {
      "cell_type": "code",
      "source": [
        "data_de_hoje = date.today().strftime(\"%d/%m/%Y\")\n",
        "\n",
        "print(\"🚀 Iniciando o Sistema de apoio ao aluno iniciante da FitNerd com 4 Agentes 🚀\")\n",
        "\n",
        "# --- Obter o Tópico do Usuário ---\n",
        "topico = input(\"❓ Por favor, digite o TÓPICO sobre o qual você quer gerar o seu treino: \")\n",
        "\n",
        "# Inserir lógica do sistema de agentes ################################################\n",
        "if not topico:\n",
        "\tprint(\"Você esqueceu de digitar o tópico!\")\n",
        "else:\n",
        "\tprint (f\"Maravilha! Vamos então vamos criar o seu plano: {topico}\")\n",
        "\n",
        "lancamentos_buscados = agente_buscador(topico, data_de_hoje)\n",
        "print(\"\\n--- Resultados do Agente 1 (Buscador) ---\\n\")\n",
        "display(to_markdown(lancamentos_buscados))\n",
        "print(\"----------------------------------------------------\")\n",
        "\n",
        "plano_de_post = agente_planejador(topico, lancamentos_buscados)\n",
        "print(\"\\n--- Resultado do Agente 2 (Planejador) ---\\n\")\n",
        "display(to_markdown(plano_de_post))\n",
        "print(\"----------------------------------------------------\")\n",
        "\n",
        "rascunho_de_post = agente_redator(topico, plano_de_post)\n",
        "print(\"\\n--- 📝 Resultado do Agente 3 (Redator) ---\\n\")\n",
        "display(to_markdown(rascunho_de_post))\n",
        "print(\"--------------------------------------------------------------\")\n",
        "\n",
        "post_final = agente_revisor(topico, rascunho_de_post)\n",
        "print(\"\\n--- 📝 Resultado do Agente 4 (Revisor) ---\\n\")\n",
        "display(to_markdown(post_final))\n",
        "print(\"--------------------------------------------------------------\")"
      ],
      "metadata": {
        "colab": {
          "base_uri": "https://localhost:8080/",
          "height": 1000
        },
        "id": "uFWsj0_Mt5Cm",
        "outputId": "220ff917-d05c-4c27-aefe-aee1a785b64b"
      },
      "execution_count": null,
      "outputs": [
        {
          "output_type": "stream",
          "name": "stdout",
          "text": [
            "🚀 Iniciando o Sistema de apoio ao aluno iniciante da FitNerd com 4 Agentes 🚀\n",
            "❓ Por favor, digite o TÓPICO sobre o qual você quer gerar o seu treino: Treinos para pernas\n",
            "Maravilha! Vamos então vamos criar o seu plano de treinamento Treinos para pernas\n",
            "\n",
            "--- Resultados do Agente 1 (Buscador) ---\n",
            "\n"
          ]
        },
        {
          "output_type": "display_data",
          "data": {
            "text/plain": [
              "<IPython.core.display.Markdown object>"
            ],
            "text/markdown": "> Olá! Tudo bem? Para te ajudar com treinos de pernas, preparei algumas opções focadas em resultados e otimização, considerando seu nível avançado. Veja o que encontrei:\n> \n>  \n> Considerando seu nível avançado, aqui estão algumas sugestões para turbinar seus treinos de perna, com foco em hipertrofia e força:\n> \n>  1. **Priorize a intensidade:** A intensidade é crucial para resultados em hipertrofia, mesmo em fases de maior volume.\n>  2. **Atenção à execução:** A execução correta é fundamental, especialmente em exercícios como agachamento, levantamento terra e avanço. Ajustes na técnica podem fazer grande diferença.\n>  3. **Carga adequada:** Não exagere nas cargas. Priorize menos carga e mais repetições em estímulos metabólicos, sempre com foco na técnica.\n>  4. **Periodicidade:** Ajuste o número de treinos de perna por semana conforme a periodização, geralmente entre uma ou duas vezes.\n>  5. **Mobilidade:** Inclua exercícios de mobilidade antes do treino para diminuir dores, melhorar a performance e evitar lesões. Exemplos: agachamento lateral alternado, extensão de quadril e mobilidade de quadril, joelho e tornozelo.\n> \n>  **Sugestões de exercícios avançados:**\n> \n>  *   **Agachamento Livre:** Exercício fundamental para trabalhar diversos músculos das pernas e glúteos.\n>  *   **Leg Press:** Variação que permite trabalhar com cargas elevadas, focando em quadríceps, glúteos e isquiotibiais.\n>  *   **Stiff:** Ótimo para trabalhar os isquiotibiais e glúteos.\n>  *   **Avanço com Halteres (Passadas):** Exercício unilateral que trabalha equilíbrio, coordenação e força nas pernas.\n>  *   **Cadeira Extensora:** Para isolar o quadríceps.\n>  *   **Mesa Flexora:** Para isolar os isquiotibiais.\n>  *   **Elevação Pélvica (com barra):** Para trabalhar glúteos e isquiotibiais.\n>  *   **Panturrilha em Pé:** Para fortalecer a panturrilha.\n>  *   **Levantamento Terra:** Ativa os músculos da posterior da coxa, glúteos, região lombar e abdominal, promovendo resistência e ganho de massa muscular.\n>  *   **Agachamento Búlgaro:** Trabalha o quadríceps e glúteos, promovendo fortalecimento e hipertrofia.\n> \n>  **Dicas extras:**\n> \n>  *   **Drop-Set:** Utilize essa técnica para aumentar a intensidade do treino. Exemplo: Cadeira Extensora unilateral: 4 séries de 5 repetições máximas, diminuindo o peso a cada série, sem intervalo.\n>  *   **Isometria:** Adicione isometria em exercícios como a cadeira adutora, segurando por 3 segundos em cada repetição.\n>  *   **Controle a fase excêntrica:** Foque no controle da descida (fase excêntrica) dos exercícios, alongando o tempo sob tensão.\n> \n>  **Frequência e Volume:**\n> \n>  *   **Avançados:** 3-4 vezes por semana, com pelo menos 1 dia de descanso entre os treinos.\n>  *   **Volume:** 5 séries de 5-8 repetições por exercício.\n>  *   **Carga:** Pesada, quase levando os músculos à falha.\n> \n>  Lembre-se de que a individualidade é crucial. Adapte as sugestões às suas necessidades e objetivos, e sempre consulte um profissional de educação física para garantir a segurança e eficácia do seu treino.\n> \n"
          },
          "metadata": {}
        },
        {
          "output_type": "stream",
          "name": "stdout",
          "text": [
            "----------------------------------------------------\n",
            "\n",
            "--- Resultado do Agente 2 (Planejador) ---\n",
            "\n"
          ]
        },
        {
          "output_type": "display_data",
          "data": {
            "text/plain": [
              "<IPython.core.display.Markdown object>"
            ],
            "text/markdown": "> Com base nas informações fornecidas, podemos criar um plano de treinamento de pernas avançado, enfatizando hipertrofia e força. Para compor este plano, abordaremos os seguintes pontos relevantes e práticas de atividades físicas:\n> \n> **Pontos Relevantes a Abordar no Plano de Treino:**\n> \n> 1.  **Intensidade e Carga Adequada:** Priorizar a intensidade é crucial, mas sem exagerar nas cargas. O foco deve estar na execução correta e no estímulo metabólico, ajustando a carga para permitir mais repetições com boa técnica.\n> \n> 2.  **Execução e Técnica:** Atenção rigorosa à execução correta dos exercícios, especialmente nos movimentos complexos como agachamento, levantamento terra e avanço. Ajustes na técnica podem otimizar os resultados e prevenir lesões.\n> \n> 3.  **Periodicidade e Frequência:** Ajustar a frequência dos treinos de perna conforme a periodização, geralmente entre 3-4 vezes por semana para níveis avançados, garantindo pelo menos um dia de descanso entre os treinos.\n> \n> 4.  **Mobilidade e Aquecimento:** Incluir exercícios de mobilidade antes do treino para melhorar a amplitude de movimento, diminuir dores e evitar lesões. Exemplos: agachamento lateral alternado, extensão de quadril e mobilidade de quadril, joelho e tornozelo.\n> \n> 5.  **Técnicas Avançadas:** Incorporar técnicas como drop-set, isometria e controle da fase excêntrica para aumentar a intensidade e o tempo sob tensão, maximizando o estímulo muscular.\n> \n> **Práticas de Atividades Físicas para Incluir no Plano de Treino:**\n> \n> 1.  **Agachamento Livre:** Exercício fundamental para trabalhar diversos músculos das pernas e glúteos, promovendo força e hipertrofia.\n> \n> 2.  **Leg Press:** Variação que permite trabalhar com cargas elevadas, focando em quadríceps, glúteos e isquiotibiais.\n> \n> 3.  **Stiff:** Ótimo para trabalhar os isquiotibiais e glúteos, contribuindo para o fortalecimento da cadeia posterior.\n> \n> 4.  **Avanço com Halteres (Passadas):** Exercício unilateral que trabalha equilíbrio, coordenação e força nas pernas, além de ativar os músculos estabilizadores.\n> \n> 5.  **Levantamento Terra:** Ativa os músculos da posterior da coxa, glúteos, região lombar e abdominal, promovendo resistência e ganho de massa muscular.\n> \n> **Plano de Treino Proposto:**\n> \n> Este plano será estruturado com base nos pontos relevantes e práticas de atividades físicas acima. Cada treino deve começar com exercícios de mobilidade e aquecimento, seguidos pelos exercícios principais com foco na técnica e intensidade. As técnicas avançadas, como drop-set e isometria, serão incorporadas estrategicamente para maximizar os resultados. A frequência será de 3-4 vezes por semana, com volume de 5 séries de 5-8 repetições por exercício, utilizando cargas pesadas que levem os músculos à falha.\n> \n> Este plano de treino será desenvolvido de forma mais detalhada posteriormente, levando em consideração a individualidade e os objetivos específicos do praticante.\n> \n"
          },
          "metadata": {}
        },
        {
          "output_type": "stream",
          "name": "stdout",
          "text": [
            "----------------------------------------------------\n",
            "\n",
            "--- 📝 Resultado do Agente 3 (Redator) ---\n",
            "\n"
          ]
        },
        {
          "output_type": "display_data",
          "data": {
            "text/plain": [
              "<IPython.core.display.Markdown object>"
            ],
            "text/markdown": "> ## Rascunho do Plano de Treino FitNerd - Pernas de Aço! 💪\n> \n> **Fala, galera da FitNerd!** Preparados para um treino de pernas que vai te deixar andando bambo? 🤪 Preparamos um rascunho de um plano *power* para quem busca hipertrofia, força e, claro, aquela definição que a gente ama! 😉\n> \n> **Lembrem-se:** Esse é um *rascunho*. Antes de começar, converse com um profissional da FitNerd para adaptar o treino às suas necessidades e objetivos, ok? 😎\n> \n> **🚀 Aquecimento (5-10 minutos):**\n> \n> *   **Agachamento Lateral Alternado:** 2 séries de 10 repetições (cada lado).\n> *   **Extensão de Quadril:** 2 séries de 15 repetições (cada perna).\n> *   **Mobilidade de Quadril, Joelho e Tornozelo:** Movimentos circulares e alongamentos dinâmicos.\n> \n> **🏋️‍♀️ Treino (3-4 vezes por semana):**\n> \n> **Foco na Execução:** Prestem atenção na postura, amplitude do movimento e contração muscular. A técnica perfeita é a chave para evitar lesões e maximizar os resultados! 😉\n> \n> **Carga:** Escolham um peso que desafie vocês, mas que permita completar as repetições com boa forma. O objetivo é sentir o músculo trabalhando! 🔥\n> \n> **Descanso:** Entre as séries, descansem de 60 a 90 segundos para recuperar a energia e manter a intensidade do treino.\n> \n> **Exercícios:**\n> \n> 1.  **Agachamento Livre:** 5 séries de 5-8 repetições. \n>     *   **Dica FitNerd:** Mantenha a coluna reta, o abdômen contraído e desça até a linha dos joelhos. Use um espelho para conferir a postura!\n> 2.  **Leg Press:** 5 séries de 5-8 repetições.\n>     *   **Dica FitNerd:** Ajuste o banco para que seus joelhos formem um ângulo de 90 graus na descida. Empurre com a força dos calcanhares!\n> 3.  **Stiff (com barra ou halteres):** 5 séries de 5-8 repetições.\n>     *   **Dica FitNerd:** Mantenha as pernas semi-flexionadas e incline o tronco para frente, sentindo alongar a parte de trás da coxa. Concentre-se na conexão mente-músculo!\n> 4.  **Avanço com Halteres (Passadas):** 3 séries de 10-12 repetições (cada perna).\n>     *   **Dica FitNerd:** Dê um passo largo à frente, flexionando os joelhos até formar um ângulo de 90 graus. Mantenha o tronco reto e o abdômen contraído para equilibrar o corpo.\n> 5.  **Levantamento Terra:** 3 séries de 5-8 repetições.\n>     *   **Dica FitNerd:** Mantenha a coluna reta e use a força das pernas e do quadril para levantar a barra. Concentre-se em manter a postura correta para evitar lesões.\n> 6.  **Extensora:** 3 séries de 10-12 repetições.\n>     *   **Dica FitNerd:** Ajuste o equipamento para que seus joelhos fiquem alinhados com o eixo da máquina. Concentre-se em contrair o quadríceps durante a extensão da perna.\n> 7.  **Flexora (deitado ou em pé):** 3 séries de 10-12 repetições.\n>     *   **Dica FitNerd:** Ajuste o equipamento para que seus tornozelos fiquem posicionados sob o apoio. Concentre-se em flexionar a perna, sentindo a contração dos isquiotibiais.\n> 8.  **Panturrilha em Pé (no Smith ou na máquina específica):** 4 séries de 15-20 repetições.\n>     *   **Dica FitNerd:** Mantenha as pernas esticadas e eleve-se na ponta dos pés, sentindo a contração da panturrilha. Utilize uma amplitude completa do movimento.\n> \n> **🔥 Técnicas Avançadas (1-2 exercícios por treino):**\n> \n> *   **Drop-Set:** Ao final da última série, diminua a carga em 20-30% e faça o máximo de repetições que conseguir.\n> *   **Isometria:** Mantenha a contração muscular no ponto mais difícil do exercício por 2-3 segundos.\n> *   **Fase Excêntrica Controlada:** Diminua a velocidade na fase de descida do movimento (3-4 segundos).\n> \n> **💧 Hidratação:** Beba água antes, durante e depois do treino.\n> \n> **😴 Descanso:** Durma bem para que seus músculos se recuperem e cresçam.\n> \n> **🍎 Alimentação:** Siga uma dieta equilibrada e rica em proteínas para otimizar os resultados.\n> \n> **Lembrem-se:** A consistência é fundamental! Sigam o plano, ajustem as cargas e técnicas com a ajuda dos nossos profissionais e, em breve, vocês estarão ostentando pernas de aço! 💪🚀\n> \n> **#FitNerd #TreinoDePernas #Hipertrofia #Força #VemMonstro**\n> \n"
          },
          "metadata": {}
        },
        {
          "output_type": "stream",
          "name": "stdout",
          "text": [
            "--------------------------------------------------------------\n",
            "\n",
            "--- 📝 Resultado do Agente 4 (Revisor) ---\n",
            "\n"
          ]
        },
        {
          "output_type": "display_data",
          "data": {
            "text/plain": [
              "<IPython.core.display.Markdown object>"
            ],
            "text/markdown": "> O plano de treino está ótimo e pronto para ser gerado!\n"
          },
          "metadata": {}
        },
        {
          "output_type": "stream",
          "name": "stdout",
          "text": [
            "--------------------------------------------------------------\n"
          ]
        }
      ]
    }
  ]
}