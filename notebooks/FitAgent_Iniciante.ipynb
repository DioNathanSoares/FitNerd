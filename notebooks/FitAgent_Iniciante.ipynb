{
  "nbformat": 4,
  "nbformat_minor": 0,
  "metadata": {
    "colab": {
      "provenance": []
    },
    "kernelspec": {
      "name": "python3",
      "display_name": "Python 3"
    },
    "language_info": {
      "name": "python"
    }
  },
  "cells": [
    {
      "cell_type": "code",
      "source": [
        "#Iniciando com a instalação da ADK\n",
        "%pip -q install google-adk"
      ],
      "metadata": {
        "id": "VRxieRfI3_hd"
      },
      "execution_count": null,
      "outputs": []
    },
    {
      "cell_type": "code",
      "source": [
        "#Importação dos módulos genai e types\n",
        "from google import genai\n",
        "from google.genai import types\n",
        "\n",
        "#Importação das classes Agent, Runner, InMemorySessionService e google_search\n",
        "from google.adk.agents import Agent\n",
        "from google.adk.runners import Runner\n",
        "from google.adk.sessions import InMemorySessionService\n",
        "from google.adk.tools import google_search\n",
        "\n",
        "#Importação do módulo de datas, para trabalhar com datas\n",
        "from datetime import date\n",
        "\n",
        "#Importação do textwrap, para manipular quebra de linhas e formatar textos\n",
        "import textwrap\n",
        "\n",
        "#Importação das funções display e Markdown, para estilizações\n",
        "from IPython.display import display, Markdown\n",
        "\n",
        "#Importação da biblioteca request, para interação HTTP\n",
        "import requests\n",
        "\n",
        "#Importação do módulo warning, para controle de avisos e função pra ignorar avisos.\n",
        "import warnings\n",
        "warnings.filterwarnings(\"ignore\")"
      ],
      "metadata": {
        "id": "TlJ1oDoZr-BE"
      },
      "execution_count": null,
      "outputs": []
    },
    {
      "cell_type": "code",
      "source": [
        "# Configura a API Key do Google Gemini\n",
        "\n",
        "import os\n",
        "\n",
        "from google.colab import userdata\n",
        "\n",
        "os.environ[\"GOOGLE_API_KEY\"] = userdata.get('GOOGLE_API_KEY')"
      ],
      "metadata": {
        "id": "CY28q9LuA2e4"
      },
      "execution_count": null,
      "outputs": []
    },
    {
      "cell_type": "code",
      "source": [
        "# Função auxiliar que envia uma mensagem para um agente via Runner e retorna a resposta final\n",
        "def call_agent(agent: Agent, message_text: str) -> str:\n",
        "    # Cria um serviço de sessão em memória\n",
        "    session_service = InMemorySessionService()\n",
        "    # Cria uma nova sessão (você pode personalizar os IDs conforme necessário)\n",
        "    session = session_service.create_session(app_name=agent.name, user_id=\"user1\", session_id=\"session1\")\n",
        "    # Cria um Runner para o agente\n",
        "    runner = Runner(agent=agent, app_name=agent.name, session_service=session_service)\n",
        "    # Cria o conteúdo da mensagem de entrada\n",
        "    content = types.Content(role=\"user\", parts=[types.Part(text=message_text)])\n",
        "\n",
        "    final_response = \"\"\n",
        "    # Itera assincronamente pelos eventos retornados durante a execução do agente\n",
        "    for event in runner.run(user_id=\"user1\", session_id=\"session1\", new_message=content):\n",
        "        if event.is_final_response():\n",
        "          for part in event.content.parts:\n",
        "            if part.text is not None:\n",
        "              final_response += part.text\n",
        "              final_response += \"\\n\"\n",
        "    return final_response"
      ],
      "metadata": {
        "id": "LfoovUVmtc9W"
      },
      "execution_count": null,
      "outputs": []
    },
    {
      "cell_type": "code",
      "source": [
        "# Função auxiliar para exibir texto formatado em Markdown no Colab\n",
        "def to_markdown(text):\n",
        "  text = text.replace('•', '  *')\n",
        "  return Markdown(textwrap.indent(text, '> ', predicate=lambda _: True))"
      ],
      "metadata": {
        "id": "M-TV3KuEthm3"
      },
      "execution_count": null,
      "outputs": []
    },
    {
      "cell_type": "code",
      "source": [
        "##########################################\n",
        "# --- Agente 1: Buscador de Treinos --- #\n",
        "##########################################\n",
        "\n",
        "def agente_buscador(topico, data_de_hoje):\n",
        "    buscador = Agent(\n",
        "        name=\"agente_buscador\",\n",
        "        model=\"gemini-2.0-flash\",\n",
        "        description=\"Agente que busca informações sobre treino para alunos do nível iniciante.\",\n",
        "        tools=[google_search],\n",
        "        instruction=\"\"\"\n",
        "        Você é um assistente de pesquisas, que está auxiliando um aluno novato com exercícios físicos e prática de atividade física. Sua tarefa é usar a ferramenta de busca do google (google_search)para pesquisar por informações sobre treinos, atividades físicas, benefícios para a saúde através da atividade física e assuntos correlacionados ao mundo fitness, inclusive, dicas para o dia a dia saudável. Não seja prolixo, traga informações relevantes, de fácil compreensão e sempre traga informações com embassamento científico (não complique a cabeça do nosso aluno, lembre-se: ele é novato). Se um conteúdo buscado não tiver muita qualidade, ou seja, pouco acesso, baixa relevância e sem embasamento científico, ignore e busque algo melhor. Essas informações devem ser mostradas em português brasileiro (se tiver algo de outro país, faça a tradução para o português do Brasil para que possa ser utilizado), de no máximo 3 meses antes da data de hoje. Se limite a trazer até 5 tópicos no conteúdo buscado.\n",
        "        \"\"\"\n",
        "    )\n",
        "    entrada_do_agente_buscador = f\"Tópico: {topico}\\nData de hoje: {data_de_hoje}\"\n",
        "\n",
        "    # Executa o agente\n",
        "    lancamentos_buscados = call_agent(buscador, entrada_do_agente_buscador)\n",
        "    return lancamentos_buscados"
      ],
      "metadata": {
        "id": "42i4-ZTEtln1"
      },
      "execution_count": null,
      "outputs": []
    },
    {
      "cell_type": "code",
      "source": [
        "################################################\n",
        "# --- Agente 2: Planejador de treinos --- #\n",
        "################################################\n",
        "def agente_planejador(topico, lancamentos_buscados):\n",
        "    planejador = Agent(\n",
        "        name=\"agente_planejador\",\n",
        "        model=\"gemini-2.0-flash\",\n",
        "        # Inserir as instruções do Agente Planejador #################################################\n",
        "        instruction=\"\"\"\n",
        "        Você é um planejador de conteúdo, especialista em atividade física, mundo fitness, educação física e personal trainner. Com base na lista de lançamentos mais recentes e relevantes buscados, você deve:\tUsar a ferramenta de busca do Google (google_search) para criar um plano de treinamentos e prática de atividade física, sobre quais são os pontos mais relevantes que poderiamos abordar compor um plano de treinamento de atividades físicas. Você também pode usar o (google_search) para encontrar mais informações sobre os temas e aprofundar. Ao final, você irá escolher de três até cinco práticas de atividades físicas, seus pontos mais relevantes, e um plano com esses tópicos a serem abordados em um planejamentpo de treinos que será desenvolvido posteriormente.\n",
        "        \"\"\",\n",
        "        description=\"Agente que planeja treinamentos\",\n",
        "        tools=[google_search]\n",
        "    )\n",
        "\n",
        "    entrada_do_agente_planejador = f\"Tópico:{topico}\\nLançamentos buscados: {lancamentos_buscados}\"\n",
        "    # Executa o agente\n",
        "    plano_do_post = call_agent(planejador, entrada_do_agente_planejador)\n",
        "    return plano_do_post"
      ],
      "metadata": {
        "id": "PYDkKpaktqpC"
      },
      "execution_count": null,
      "outputs": []
    },
    {
      "cell_type": "code",
      "source": [
        "######################################\n",
        "# --- Agente 3: Prescritor do Treinos --- #\n",
        "######################################\n",
        "def agente_redator(topico, plano_de_post):\n",
        "    redator = Agent(\n",
        "        name=\"agente_redator\",\n",
        "        model=\"gemini-2.0-flash\",\n",
        "        instruction=\"\"\"\n",
        "            Você é um prescritor de treinos, especialista em mundo fitness e educação física. Você prescreve treinos para a empresa FitNerd, a maior rede de academias do Brasil. Utilize o material fornecido no plano de treino e os pontos mais relevantes fornecidos e, com base nisso, escreva um plano de treino que inclua a execução perfeita da atividade física e as melhores práticas a serem adotadas para este plano em um rascunho que será utilizado na academia FitNerd. O plano deve ser engajador, informativo, com linguagem simples e incluir de 3 até 5 exercícios.\n",
        "            \"\"\",\n",
        "        description=\"Agente redator de planos de treino para a academia FitNerd\"\n",
        "    )\n",
        "    entrada_do_agente_redator = f\"Tópico: {topico}\\nPlano de post: {plano_de_post}\"\n",
        "    # Executa o agente\n",
        "    rascunho = call_agent(redator, entrada_do_agente_redator)\n",
        "    return rascunho"
      ],
      "metadata": {
        "id": "Ks8T9vm8tvXV"
      },
      "execution_count": null,
      "outputs": []
    },
    {
      "cell_type": "code",
      "source": [
        "##########################################\n",
        "# --- Agente 4: Revisor de Qualidade --- #\n",
        "##########################################\n",
        "def agente_revisor(topico, rascunho_gerado):\n",
        "    revisor = Agent(\n",
        "        name=\"agente_revisor\",\n",
        "        model=\"gemini-2.0-flash\",\n",
        "        instruction=\"\"\"\n",
        "            Você é um Editor e Revisor de Conteúdo meticuloso, especializado em academias, prática de atividades física, mundo fitness e educação física. Você está atendendo alunos do nível iniciante, logo, não possuem uma compreensão tão profunda sobre termos de academia e só estão iniciando na vida fitness. Revise o rascunho do plano de treinamento da academia \"FitNerd\" verificando clareza, concisão, correção e tom. Se o plano de treino estiver bom, responda apenas 'O plano está ótimo e pronto para ser gerado!'. Caso haja problemas, aponte-os e sugira melhorias.\n",
        "            \"\"\",\n",
        "        description=\"Agente revisor de plano de treinamentos para a FitNerd.\"\n",
        "    )\n",
        "    entrada_do_agente_revisor = f\"Tópico: {topico}\\nRascunho: {rascunho_gerado}\"\n",
        "    # Executa o agente\n",
        "    texto_revisado = call_agent(revisor, entrada_do_agente_revisor)\n",
        "    return texto_revisado"
      ],
      "metadata": {
        "id": "4jFlmrWStzj0"
      },
      "execution_count": null,
      "outputs": []
    },
    {
      "cell_type": "code",
      "source": [
        "data_de_hoje = date.today().strftime(\"%d/%m/%Y\")\n",
        "\n",
        "print(\"🚀 Iniciando o Sistema de apoio ao aluno iniciante da FitNerd com 4 Agentes 🚀\")\n",
        "\n",
        "# --- Obter o Tópico do Usuário ---\n",
        "topico = input(\"❓ Por favor, digite o TÓPICO sobre o qual você quer gerar o seu treino: \")\n",
        "\n",
        "# Inserir lógica do sistema de agentes ################################################\n",
        "if not topico:\n",
        "\tprint(\"Você esqueceu de digitar o tópico!\")\n",
        "else:\n",
        "\tprint (f\"Maravilha! Vamos então vamos criar o seu plano: {topico}\")\n",
        "\n",
        "lancamentos_buscados = agente_buscador(topico, data_de_hoje)\n",
        "print(\"\\n--- Resultados do Agente 1 (Buscador) ---\\n\")\n",
        "display(to_markdown(lancamentos_buscados))\n",
        "print(\"----------------------------------------------------\")\n",
        "\n",
        "plano_de_post = agente_planejador(topico, lancamentos_buscados)\n",
        "print(\"\\n--- Resultado do Agente 2 (Planejador) ---\\n\")\n",
        "display(to_markdown(plano_de_post))\n",
        "print(\"----------------------------------------------------\")\n",
        "\n",
        "rascunho_de_post = agente_redator(topico, plano_de_post)\n",
        "print(\"\\n--- 📝 Resultado do Agente 3 (Redator) ---\\n\")\n",
        "display(to_markdown(rascunho_de_post))\n",
        "print(\"--------------------------------------------------------------\")\n",
        "\n",
        "post_final = agente_revisor(topico, rascunho_de_post)\n",
        "print(\"\\n--- 📝 Resultado do Agente 4 (Revisor) ---\\n\")\n",
        "display(to_markdown(post_final))\n",
        "print(\"--------------------------------------------------------------\")"
      ],
      "metadata": {
        "colab": {
          "base_uri": "https://localhost:8080/",
          "height": 1000
        },
        "id": "uFWsj0_Mt5Cm",
        "outputId": "8b67cb89-33fc-4ac7-c355-9f8b58c18a91"
      },
      "execution_count": null,
      "outputs": [
        {
          "output_type": "stream",
          "name": "stdout",
          "text": [
            "🚀 Iniciando o Sistema de apoio ao aluno iniciante da FitNerd com 4 Agentes 🚀\n",
            "❓ Por favor, digite o TÓPICO sobre o qual você quer gerar o seu treino: Treinos para multiplas articulações\n",
            "Maravilha! Vamos então vamos criar o seu plano de treinamento Treinos para multiplas articulações\n",
            "\n",
            "--- Resultados do Agente 1 (Buscador) ---\n",
            "\n"
          ]
        },
        {
          "output_type": "display_data",
          "data": {
            "text/plain": [
              "<IPython.core.display.Markdown object>"
            ],
            "text/markdown": "> Olá! Treinos multiarticulares são ótimos para iniciantes, pois trabalham vários grupos musculares ao mesmo tempo, o que aumenta o gasto calórico e a força geral. Aqui estão alguns exercícios que você pode incluir no seu treino:\n> \n>  \n> Com certeza! Exercícios multiarticulares são excelentes para quem está começando. Eles trabalham vários músculos ao mesmo tempo, otimizando seu tempo e aumentando a eficiência do treino.\n> \n> **Benefícios dos exercícios multiarticulares:**\n> \n> 1.  **Otimização do tempo:** Trabalham diversos grupos musculares simultaneamente.\n> 2.  **Maior gasto calórico:** Ideais para quem busca perder peso, pois exigem mais energia do corpo.\n> 3.  **Aumento da força e massa muscular:** Promovem microlesões que levam à hipertrofia e maior liberação hormonal.\n> 4.  **Melhora da coordenação motora:** Exigem integração entre diferentes partes do corpo.\n> 5.  **Funcionalidade:** Preparam o corpo para atividades do dia a dia, fortalecendo os músculos de forma integrada.\n> \n> **Exemplos de exercícios multiarticulares para iniciantes:**\n> \n> 1.  **Agachamento:** Trabalha pernas, glúteos e core. Mantenha os pés afastados na linha dos ombros e a postura ereta.\n> 2.  **Supino:** Trabalha peito, ombros e tríceps. Pode ser feito com barra ou halteres.\n> 3.  **Remada:** Trabalha costas e bíceps. A remada curvada com halteres é uma boa opção.\n> 4.  **Flexão:** Trabalha peito, ombros, costas e tríceps. Comece com apoio nos joelhos se necessário.\n> 5.  **Levantamento Terra:** Trabalha a parte inferior e superior do corpo. Essencial para fortalecer a cadeia posterior.\n> \n> **Dicas:**\n> \n> *   **Aquecimento:** Sempre aqueça antes de começar o treino.\n> *   **Postura:** Mantenha a postura correta durante os exercícios para evitar lesões.\n> *   **Progressão:** Aumente a carga gradualmente, conforme for ganhando força.\n> *   **Core:** Ative a musculatura do abdômen para estabilizar o quadril e proteger a coluna.\n> \n> Lembre-se de que é fundamental procurar orientação de um profissional de educação física para montar um treino adequado às suas necessidades e objetivos.\n> \n"
          },
          "metadata": {}
        },
        {
          "output_type": "stream",
          "name": "stdout",
          "text": [
            "----------------------------------------------------\n",
            "\n",
            "--- Resultado do Agente 2 (Planejador) ---\n",
            "\n"
          ]
        },
        {
          "output_type": "display_data",
          "data": {
            "text/plain": [
              "<IPython.core.display.Markdown object>"
            ],
            "text/markdown": "> Com certeza! Com base nas informações fornecidas e em pesquisas adicionais, aqui está um plano de treinamento com foco em exercícios multiarticulares, ideal para iniciantes, detalhando os pontos mais relevantes a serem abordados em um planejamento de treinos posterior:\n> \n> \n> ### **Plano de Treinamento para Iniciantes com Foco em Exercícios Multiarticulares**\n> \n> **Objetivo:** Desenvolver força geral, aumentar o gasto calórico, melhorar a coordenação motora e preparar o corpo para atividades diárias, utilizando exercícios que trabalham múltiplos grupos musculares simultaneamente.\n> \n> **Princípios Fundamentais:**\n> \n> 1.  **Seleção de Exercícios:**\n> \n>     *   **Exercícios Essenciais:** Escolher de 3 a 5 exercícios multiarticulares que cubram os principais grupos musculares.\n>         *   **Exemplos:** Agachamento, supino, remada, flexão e levantamento terra (com adaptações para iniciantes).\n> \n> 2.  **Técnica Correta e Postura:**\n> \n>     *   **Demonstração e Correção:** Garantir que o praticante aprenda a execução correta de cada exercício desde o início.\n>         *   **Foco:** Alinhamento postural, controle do movimento e ativação correta dos músculos envolvidos.\n>     *   **Progressão:** Começar com cargas leves ou sem carga (utilizando o peso corporal) para dominar a técnica.\n> \n> 3.  **Aquecimento e Alongamento:**\n> \n>     *   **Aquecimento:** Preparar o corpo para o exercício com atividades cardiovasculares leves (5-10 minutos) e mobilidade articular.\n>     *   **Alongamento:** Incluir alongamentos dinâmicos antes do treino e estáticos após o treino para melhorar a flexibilidade e reduzir o risco de lesões.\n> \n> 4.  **Progressão Gradual da Carga:**\n> \n>     *   **Aumento Progressivo:** Aumentar a carga (peso) gradualmente, conforme o praticante ganha força e controle.\n>         *   **Atenção:** Priorizar a manutenção da técnica correta ao aumentar a carga.\n>     *   **Variação:** Ajustar o número de repetições e séries para otimizar o estímulo muscular.\n> \n> 5.  **Ativação do Core:**\n> \n>     *   **Estabilização:** Ensinar o praticante a ativar a musculatura do core (abdômen e região lombar) para estabilizar o tronco durante os exercícios.\n>         *   **Importância:** Proteção da coluna vertebral e melhoria da eficiência dos movimentos.\n>     *   **Exercícios de Core:** Incluir exercícios específicos para o core como prancha e exercícios de estabilização.\n> \n> 6.  **Descanso e Recuperação:**\n> \n>     *   **Intervalo:** Respeitar os intervalos de descanso entre as séries para permitir a recuperação muscular.\n>     *   **Sono:** Garantir uma boa noite de sono para otimizar a recuperação e o crescimento muscular.\n>     *   **Nutrição:** Orientar sobre a importância de uma dieta equilibrada para fornecer os nutrientes necessários para a recuperação e o crescimento muscular.\n> \n> 7.  **Importância do Acompanhamento Profissional:**\n> \n>     *   **Acompanhamento Contínuo:** Enfatizar a necessidade de acompanhamento de um profissional de educação física para ajustar o treino, corrigir a técnica e prevenir lesões.\n>     *   **Personalização:** Adaptar o plano de treino às necessidades e objetivos individuais do praticante.\n>     *   **Motivação:** O profissional pode fornecer suporte e motivação para manter o praticante engajado no programa de treinamento.\n> \n> ### **Exemplos de Exercícios Multiarticulares para Iniciantes:**\n> \n> 1.  **Agachamento:**\n> \n>     *   **Foco:** Pernas, glúteos e core.\n>     *   **Execução:** Pés afastados na largura dos ombros, agachar como se fosse sentar em uma cadeira, mantendo a postura ereta e o core ativado.\n>     *   **Variações:** Agachamento livre, agachamento com peso corporal, agachamento com halteres.\n> 2.  **Supino:**\n> \n>     *   **Foco:** Peito, ombros e tríceps.\n>     *   **Execução:** Deitar em um banco, segurar a barra ou halteres com as mãos na largura dos ombros, abaixar o peso até o peito e empurrar de volta para cima.\n>     *   **Variações:** Supino reto com barra, supino com halteres, supino inclinado.\n> 3.  **Remada:**\n> \n>     *   **Foco:** Costas e bíceps.\n>     *   **Execução:** Inclinar o tronco para frente, segurar halteres ou barra, puxar o peso em direção ao abdômen, mantendo as costas retas.\n>     *   **Variações:** Remada curvada com halteres, remada com barra, remada em máquina.\n> 4.  **Flexão:**\n> \n>     *   **Foco:** Peito, ombros, tríceps e core.\n>     *   **Execução:** Mãos no chão na largura dos ombros, corpo reto, abaixar o corpo até o peito quase tocar o chão e empurrar de volta para cima.\n>     *   **Variações:** Flexão com apoio nos joelhos (para iniciantes), flexão tradicional.\n> 5.  **Levantamento Terra (Adaptado):**\n> \n>     *   **Foco:** Cadeia posterior (isquiotibiais, glúteos, lombar) e core.\n>     *   **Execução:** Pés afastados na largura dos ombros, agachar para pegar a barra ou halteres, mantendo as costas retas, levantar o peso estendendo as pernas e o tronco.\n>     *   **Variações:** Levantamento terra com halteres, levantamento terra com barra (carga leve).\n> \n> ### **Plano de Treino Sugerido (Exemplo):**\n> \n> *   **Frequência:** 2-3 vezes por semana, com descanso de pelo menos um dia entre os treinos.\n> *   **Estrutura:**\n>     *   Aquecimento: 5-10 minutos de cardio leve e mobilidade articular.\n>     *   Treino:\n>         *   Agachamento: 3 séries de 8-12 repetições.\n>         *   Supino: 3 séries de 8-12 repetições.\n>         *   Remada: 3 séries de 8-12 repetições.\n>         *   Flexão: 3 séries até a falha (ou com apoio nos joelhos).\n>         *   Prancha: 3 séries, mantendo a posição por 30-60 segundos.\n>     *   Alongamento: 5-10 minutos de alongamentos estáticos.\n> *   **Progressão:** Aumentar a carga ou o número de repetições a cada semana, conforme a capacidade do praticante.\n> \n> **Observações Finais:**\n> \n> *   **Individualização:** Este plano é um exemplo e deve ser adaptado às necessidades e objetivos individuais de cada praticante, com a orientação de um profissional de educação física.\n> *   **Consistência:** A chave para o sucesso é a consistência e a progressão gradual.\n> *   **Segurança:** Priorizar sempre a técnica correta para evitar lesões.\n> \n"
          },
          "metadata": {}
        },
        {
          "output_type": "stream",
          "name": "stdout",
          "text": [
            "----------------------------------------------------\n",
            "\n",
            "--- 📝 Resultado do Agente 3 (Redator) ---\n",
            "\n"
          ]
        },
        {
          "output_type": "display_data",
          "data": {
            "text/plain": [
              "<IPython.core.display.Markdown object>"
            ],
            "text/markdown": "> ## Rascunho - Plano de Treino FitNerd: Multiarticulares para Iniciantes\n> \n> **Objetivo:** Boas-vindas ao mundo do movimento eficiente! Este treino vai te dar força, queimar calorias e te preparar para o dia a dia, tudo em um só pacote!\n> \n> **Por que Multiarticulares?** 💪\n> \n> Imagine um exercício que trabalha vários músculos ao mesmo tempo. É tipo fazer um \"combo\" de benefícios:\n> \n> *   **Mais resultados em menos tempo:** Ideal para quem tem a agenda apertada.\n> *   **Corpo mais forte e funcional:** Melhora a coordenação e te deixa pronto para qualquer desafio.\n> *   **Queima de calorias turbinada:** Acelera o metabolismo e te ajuda a alcançar seus objetivos.\n> \n> **Importante:** Se você for novo por aqui ou estiver voltando aos treinos, este plano é perfeito para começar com o pé direito!\n> \n> **O Plano de Ataque:**\n> \n> Faremos um circuito com foco em 4 exercícios chave, priorizando a forma correta e a adaptação ao seu ritmo.\n> \n> **1. Aquecimento:** (5 minutos)\n> \n> *   **Cardio Leve:** Uma caminhada na esteira ou polichinelos para aquecer o corpo.\n> *   **Mobilidade:** Gire os braços, pernas e tronco para preparar as articulações.\n> \n> **2. Treino:**\n> \n> *   **Agachamento:** (3 séries de 8-12 repetições)\n>     *   **Como fazer:** Pés na largura dos ombros, coluna reta, e agache como se fosse sentar em uma cadeira. Imagine que tem um banco atrás de você.\n>     *   **FitNerd Dica:** Mantenha o abdômen contraído e o peso nos calcanhares.\n> *   **Supino com Halteres:** (3 séries de 8-12 repetições)\n>     *   **Como fazer:** Deite no banco, pés firmes no chão, e empurre os halteres para cima.\n>     *   **FitNerd Dica:** Não trave os cotovelos no topo do movimento.\n> *   **Remada Curvada com Halteres:** (3 séries de 8-12 repetições)\n>     *   **Como fazer:** Incline o corpo para frente, mantenha a coluna reta e puxe os halteres em direção ao abdômen.\n>     *   **FitNerd Dica:** Concentre-se em usar os músculos das costas para puxar o peso.\n> *   **Flexão:** (3 séries até a falha ou com apoio nos joelhos)\n>     *   **Como fazer:** Mãos no chão na largura dos ombros, corpo reto, e abaixe o peito em direção ao chão.\n>     *   **FitNerd Dica:** Se precisar, apoie os joelhos no chão para facilitar o movimento.\n> \n> **3. Core:**\n> \n> *   **Prancha:** (3 séries, segurando por 30-60 segundos)\n>     *   **Como fazer:** Apoie os antebraços no chão, corpo reto da cabeça aos pés.\n>     *   **FitNerd Dica:** Mantenha o abdômen contraído e evite deixar o quadril cair.\n> \n> **4. Relaxamento:** (5 minutos)\n> \n> *   **Alongamentos:** Estique os músculos que foram trabalhados no treino (pernas, peito, costas, braços).\n> \n> **Frequência:**\n> \n> *   2-3 vezes por semana, com pelo menos um dia de descanso entre os treinos.\n> \n> **Progressão:**\n> \n> *   Aumente o peso gradualmente, à medida que se sentir mais forte.\n> *   Varie os exercícios para manter o treino interessante e desafiador.\n> \n> **Lembre-se:**\n> \n> *   A técnica é mais importante do que a carga.\n> *   Escute seu corpo e descanse quando precisar.\n> *   Beba água antes, durante e depois do treino.\n> *   Consulte um profissional da FitNerd para ajustar o plano às suas necessidades.\n> \n> **FitNerd Palavra de especialista:**\n> \n> \"Este é apenas o começo! Com consistência e dedicação, você vai se surpreender com os resultados. O importante é se divertir e aproveitar o processo!\"\n> \n> **Observações:**\n> \n> *   Adaptar o plano para diferentes níveis de condicionamento físico.\n> *   Incluir fotos ou vídeos dos exercícios.\n> *   Criar um senso de comunidade e pertencimento.\n> *   Incentivar a interação e o feedback dos alunos.\n> \n"
          },
          "metadata": {}
        },
        {
          "output_type": "stream",
          "name": "stdout",
          "text": [
            "--------------------------------------------------------------\n",
            "\n",
            "--- 📝 Resultado do Agente 4 (Revisor) ---\n",
            "\n"
          ]
        },
        {
          "output_type": "display_data",
          "data": {
            "text/plain": [
              "<IPython.core.display.Markdown object>"
            ],
            "text/markdown": "> O plano está bom, mas podemos deixá-lo ainda melhor para os iniciantes da FitNerd! Aqui estão minhas sugestões:\n> \n> *   **Objetivo:**\n>     *   Sugestão: \"Bem-vindo(a) ao mundo dos treinos! Com este plano, você vai começar a ganhar força, queimar calorias e se sentir mais preparado(a) para as atividades do dia a dia!\"\n> *   **Por que Multiarticulares?**\n>     *   Sugestão: \"Exercícios multiarticulares são ótimos porque usam vários músculos ao mesmo tempo! Pense neles como um \"super treino\" que traz muitos benefícios:\"\n>     *   Adicionar um benefício extra: \"Melhora o equilíbrio e a postura: Essencial para evitar lesões e ter mais confiança nos movimentos.\"\n> *   **O Plano de Ataque:**\n>     *   Sugestão: \"Vamos fazer um circuito com 4 exercícios principais. O mais importante é fazer tudo certinho e no seu ritmo. Não tenha pressa!\"\n> *   **Treino:**\n>     *   **Agachamento:**\n>         *   Sugestão: \"Pés um pouco mais afastados que a largura dos ombros, coluna reta. Desça como se fosse sentar em uma cadeira, jogando o quadril para trás.\"\n>         *   **FitNerd Dica:** \"Contraia o abdômen (como se fosse levar o umbigo para dentro) e mantenha o peso nos calcanhares para não sobrecarregar os joelhos.\"\n>     *   **Supino com Halteres:**\n>         *   Sugestão: \"Deite de costas no banco, com os pés bem apoiados no chão. Segure um haltere em cada mão e empurre-os para cima.\"\n>         *   **FitNerd Dica:** \"Não estique completamente os braços no final do movimento. Deixe os cotovelos levemente dobrados para proteger as articulações.\"\n>     *   **Remada Curvada com Halteres:**\n>         *   Sugestão: \"Incline o corpo para frente, mantendo as costas retas (cuidado para não curvar!). Segure um haltere em cada mão e puxe-os em direção à barriga.\"\n>         *  **FitNerd Dica:** \"Pense em usar os músculos das costas para fazer força, e não os braços. Se sentir dor na lombar, diminua o peso ou peça ajuda a um profissional.\"\n>     *   **Flexão:**\n>         *   Sugestão: \"Mãos no chão, um pouco mais afastadas que a largura dos ombros. Estique as pernas e abaixe o corpo até o peito quase tocar o chão.\"\n>         *   **FitNerd Dica:** \"Se estiver difícil, apoie os joelhos no chão. O importante é manter a postura correta e fazer o movimento completo.\"\n> *   **Core:**\n>     *   **Prancha:**\n>         *   Sugestão: \"Apoie os antebraços no chão, com os cotovelos alinhados aos ombros. Mantenha o corpo reto, como uma prancha, da cabeça aos pés.\"\n>         *   **FitNerd Dica:** \"Contraia o abdômen e os glúteos para não deixar o quadril cair. Se sentir dor na lombar, pare e descanse.\"\n> *   **Relaxamento:**\n>     *   Sugestão: \"Faça alongamentos leves para relaxar os músculos que você usou no treino. Segure cada alongamento por 20-30 segundos.\"\n>     *   Adicionar exemplos de alongamentos: \"Alongue as pernas (quadríceps, posterior da coxa), o peito, as costas e os braços.\"\n> *   **Frequência:**\n>     *   Sugestão: \"Descanse pelo menos um dia entre os treinos para que seus músculos se recuperem.\"\n> *   **Progressão:**\n>     *   Sugestão: \"Quando sentir que está fácil, aumente o peso dos halteres ou a dificuldade dos exercícios. Mas lembre-se: a técnica é sempre mais importante que a carga!\"\n> *   **Lembre-se:**\n>     *   Sugestão: \"Escute sempre o seu corpo e não force a barra. Se sentir dor, pare e procure um profissional da FitNerd.\"\n> *   **FitNerd Palavra de especialista:**\n>     *   Sugestão: \"Lembre-se que este é só o começo da sua jornada fitness! Com dedicação e alegria, você vai alcançar seus objetivos e se sentir cada vez melhor. Conte com a FitNerd para te ajudar nessa caminhada!\"\n> *   **Observações:**\n>     *   \"Adicionar um espaço para os alunos registrarem seus pesos e repetições a cada treino.\"\n>     *   \"Criar um sistema de recompensas para motivar os alunos a continuarem treinando.\"\n> \n> Com essas pequenas mudanças, o plano ficará ainda mais claro, amigável e motivador para os alunos iniciantes da FitNerd!\n"
          },
          "metadata": {}
        },
        {
          "output_type": "stream",
          "name": "stdout",
          "text": [
            "--------------------------------------------------------------\n"
          ]
        }
      ]
    }
  ]
}